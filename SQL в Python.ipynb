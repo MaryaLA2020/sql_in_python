{
 "cells": [
  {
   "cell_type": "code",
   "execution_count": null,
   "id": "1dbed0a7",
   "metadata": {},
   "outputs": [],
   "source": [
    "pip install pandas ipython-sql jupyterlab_sql_editor"
   ]
  },
  {
   "cell_type": "code",
   "execution_count": 15,
   "id": "b85a20a3",
   "metadata": {},
   "outputs": [],
   "source": [
    "import pandas as pd\n",
    "import sqlite3"
   ]
  },
  {
   "cell_type": "code",
   "execution_count": null,
   "id": "69c4cd9a",
   "metadata": {},
   "outputs": [],
   "source": [
    "%load_ext sql\n",
    "%config SqlMagic.style = '_DEPRECATED_DEFAULT'"
   ]
  },
  {
   "cell_type": "code",
   "execution_count": null,
   "id": "e93a4c6b",
   "metadata": {},
   "outputs": [],
   "source": [
    "data = pd.DataFrame({\n",
    "    'index': ['ASD', 'ASD', 'GHF', 'YTP', 'YTP', 'YTP'],\n",
    "    'value': [5, 3, 6, 8, 2, 3]\n",
    "})\n",
    "data"
   ]
  },
  {
   "cell_type": "code",
   "execution_count": null,
   "id": "a1841c02",
   "metadata": {},
   "outputs": [],
   "source": [
    "connection = sqlite3.connect('example.db')\n",
    "data.to_sql('data', con=connection)"
   ]
  },
  {
   "cell_type": "markdown",
   "id": "8fd4f18e",
   "metadata": {},
   "source": [
    "Цифра **6** в результате указывает на число строк в созданной таблице"
   ]
  },
  {
   "cell_type": "code",
   "execution_count": 11,
   "id": "d3236491",
   "metadata": {},
   "outputs": [],
   "source": [
    "%sql sqlite:///example.db"
   ]
  },
  {
   "cell_type": "code",
   "execution_count": null,
   "id": "486cba2c",
   "metadata": {},
   "outputs": [],
   "source": [
    "%sql SELECT * FROM data"
   ]
  },
  {
   "cell_type": "code",
   "execution_count": null,
   "id": "9658859b",
   "metadata": {},
   "outputs": [],
   "source": [
    "%%sql \n",
    "SELECT value \n",
    "FROM data\n",
    "LIMIT 3"
   ]
  },
  {
   "cell_type": "code",
   "execution_count": null,
   "id": "5272f2a2-af2d-43b6-b25c-5c37c61a9a2c",
   "metadata": {},
   "outputs": [],
   "source": []
  }
 ],
 "metadata": {
  "kernelspec": {
   "display_name": "Python 3",
   "language": "python",
   "name": "python3"
  },
  "language_info": {
   "codemirror_mode": {
    "name": "ipython",
    "version": 3
   },
   "file_extension": ".py",
   "mimetype": "text/x-python",
   "name": "python",
   "nbconvert_exporter": "python",
   "pygments_lexer": "ipython3",
   "version": "3.13.1"
  }
 },
 "nbformat": 4,
 "nbformat_minor": 5
}
